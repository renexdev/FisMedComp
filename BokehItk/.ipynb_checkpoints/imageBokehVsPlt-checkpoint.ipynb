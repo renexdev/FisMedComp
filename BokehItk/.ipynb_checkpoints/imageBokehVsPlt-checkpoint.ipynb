{
 "cells": [
  {
   "cell_type": "markdown",
   "metadata": {},
   "source": [
    "# Laboratorio de Física Médica Computacional \n",
    "Centro Atómico Bariloche, Argentina\n",
    "\n",
    "Dr. René Cejas Bolecek, 2016\n",
    "\n",
    "reneczech@gmail.com"
   ]
  },
  {
   "cell_type": "code",
   "execution_count": null,
   "metadata": {
    "collapsed": false
   },
   "outputs": [],
   "source": [
    "import numpy as np\n",
    "#Librerias del Bokeh\n",
    "from bokeh.models.glyphs import ImageURL\n",
    "from bokeh.io import show, output_notebook\n",
    "from bokeh.plotting import figure\n",
    "#Librerias ITK\n",
    "import SimpleITK as sitk\n",
    "output_notebook()\n",
    "\n",
    "#Selecciono imagen\n",
    "#https://en.wikipedia.org/wiki/Tree#/media/File:Ash_Tree_-_geograph.org.uk_-_590710.jpg\n",
    "inputImg = \"220px-Ash_Tree_-_geograph.org.uk_-_590710.jpg\"\n",
    "image = sitk.ReadImage(inputImg,-1) #Arg -1 ver que opcion se refiere\n",
    "\n",
    "nda = sitk.GetArrayFromImage(image)\n",
    "# la funcion iversa\n",
    "#img = sitk.GetImageFromArray(nda)\n",
    "\n",
    "#cambio los ejes coordenados\n",
    "sliceT = np.swapaxes(nda[:,:,:],0,1)\n",
    "print \"Propiedades SimpleITK\"\n",
    "print \"RGB?: \", image.GetNumberOfComponentsPerPixel()\n",
    "\n",
    "nda = sitk.GetArrayFromImage(image)\n",
    "print \"tamaño: \",image.GetSize()\n",
    "print \"origen: \",image.GetOrigin()\n",
    "print \"espacio entre px: \", image.GetSpacing()\n",
    "print \"dir: \", image.GetDirection()\n",
    "N = image.GetWidth()\n",
    "M = image.GetHeight()\n",
    "print \"N (width): \", N\n",
    "print \"M (Height): \", M\n",
    "\n",
    "\n",
    "img = np.empty((N,M), dtype=np.uint32)\n",
    "view = img.view(dtype=np.uint8).reshape(N,M,4)\n",
    "for jj in range(M):\n",
    "    for i in range(N):\n",
    "        view[i, jj, 0] = sliceT[i][M-1-jj][0]\n",
    "        view[i, jj, 1] = sliceT[i][M-1-jj][1]\n",
    "        view[i, jj, 2] = sliceT[i][M-1-jj][2]\n",
    "        view[i, jj, 3] =  255 #supongo que es una mascara \n",
    "factor=2\n",
    "print \"Version BOKEH\"\n",
    "print \"Factor del box que dibuja: \", factor\n",
    "p = figure(plot_width=(N*2), plot_height=(M*2), x_range=(0,N), y_range=(0,M))\n",
    "p.image_rgba(image=[np.swapaxes(img,0,1)], x=[0], y=[0], dw=[N], dh=[M])\n",
    "show(p)\n",
    "\n",
    "#Vs matplotlib\n",
    "%matplotlib inline\n",
    "import matplotlib.pyplot as plt\n",
    "print \"Version MATPLOTLIB\"\n",
    "sliceD = sitk.GetArrayFromImage(image)[:,:,:]\n",
    "plt.imshow(sliceD)"
   ]
  },
  {
   "cell_type": "code",
   "execution_count": null,
   "metadata": {
    "collapsed": false
   },
   "outputs": [],
   "source": [
    "#Ejemplo\n",
    "#http://bokeh.pydata.org/en/latest/docs/gallery/image.html\n",
    "#Adaptado notebook\n",
    "import numpy as np\n",
    "\n",
    "from bokeh.plotting import figure\n",
    "from bokeh.io import show, output_notebook\n",
    "output_notebook()\n",
    "\n",
    "N = 1000\n",
    "\n",
    "x = np.linspace(0, 10, N)\n",
    "y = np.linspace(0, 10, N)\n",
    "xx, yy = np.meshgrid(x, y)\n",
    "d = np.sin(xx)*np.cos(yy)\n",
    "\n",
    "p = figure(x_range=[0, 10], y_range=[0, 10])\n",
    "p.image(image=[d], x=[0], y=[0], dw=[10], dh=[10], palette=\"Spectral11\")\n",
    "\n",
    "show(p) "
   ]
  },
  {
   "cell_type": "code",
   "execution_count": null,
   "metadata": {
    "collapsed": true
   },
   "outputs": [],
   "source": []
  }
 ],
 "metadata": {
  "kernelspec": {
   "display_name": "Python 2",
   "language": "python",
   "name": "python2"
  },
  "language_info": {
   "codemirror_mode": {
    "name": "ipython",
    "version": 2
   },
   "file_extension": ".py",
   "mimetype": "text/x-python",
   "name": "python",
   "nbconvert_exporter": "python",
   "pygments_lexer": "ipython2",
   "version": "2.7.10"
  }
 },
 "nbformat": 4,
 "nbformat_minor": 2
}
